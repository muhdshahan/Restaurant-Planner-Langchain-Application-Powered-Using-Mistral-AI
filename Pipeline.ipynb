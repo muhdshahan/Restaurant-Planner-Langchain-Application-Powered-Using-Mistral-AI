{
 "cells": [
  {
   "cell_type": "code",
   "execution_count": 207,
   "id": "2f8ddcf2",
   "metadata": {},
   "outputs": [],
   "source": [
    "from secret_key import togetherapi_key\n",
    "import os\n",
    "os.environ['TOGETHER_API_KEY'] = togetherapi_key # set together api key"
   ]
  },
  {
   "cell_type": "code",
   "execution_count": 208,
   "id": "3cf50bb0",
   "metadata": {},
   "outputs": [
    {
     "name": "stdout",
     "output_type": "stream",
     "text": [
      "Suggestion Hibiscus Haven\n"
     ]
    }
   ],
   "source": [
    "from langchain_community.llms import Together\n",
    "\n",
    "# Load Mistral Model\n",
    "llm = Together(\n",
    "    model=\"mistralai/Mistral-7B-Instruct-v0.1\",\n",
    "    temperature=0.7,\n",
    "    max_tokens=128\n",
    ")\n",
    "prompt = \"\"\"### Instruction:\n",
    "Suggest only one fancy name (no description or explanation) for a restaurant that serves {cuisine} food. Just return the name only.\n",
    "### Response:\"\"\"  # input prompt\n",
    "response = llm.invoke(prompt) # call the model\n",
    "\n",
    "print(\"Suggestion\", response.strip())"
   ]
  },
  {
   "cell_type": "code",
   "execution_count": 209,
   "id": "4d7e6485",
   "metadata": {},
   "outputs": [
    {
     "data": {
      "text/plain": [
       "'### Instruction:\\nSuggest only one fancy name (no description or explanation) for a restaurant that serves Italian food. Just return the name only.\\n### Response:'"
      ]
     },
     "execution_count": 209,
     "metadata": {},
     "output_type": "execute_result"
    }
   ],
   "source": [
    "from langchain.prompts import PromptTemplate\n",
    "\n",
    "prompt_template_name = PromptTemplate(\n",
    "    input_variables = ['cuisine'],\n",
    "    template = \"\"\"### Instruction:\n",
    "Suggest only one fancy name (no description or explanation) for a restaurant that serves {cuisine} food. Just return the name only.\n",
    "### Response:\"\"\"\n",
    ")\n",
    "\n",
    "prompt_template_name.format(cuisine=\"Italian\")"
   ]
  },
  {
   "cell_type": "code",
   "execution_count": 210,
   "id": "186c9a18",
   "metadata": {},
   "outputs": [
    {
     "data": {
      "text/plain": [
       "'\\nSavory Oasis'"
      ]
     },
     "execution_count": 210,
     "metadata": {},
     "output_type": "execute_result"
    }
   ],
   "source": [
    "from langchain.chains import LLMChain\n",
    "\n",
    "chain = LLMChain(llm=llm, prompt=prompt_template_name)\n",
    "chain.run(\"American\")"
   ]
  },
  {
   "cell_type": "code",
   "execution_count": 211,
   "id": "987dbb45",
   "metadata": {},
   "outputs": [],
   "source": [
    "# sequential chain (output of one step will be input of another step,\n",
    "# example: restaurant type = indian so generated restaurant name then give food menu items so output will be food menu )\n",
    "prompt_template_name = PromptTemplate(\n",
    "    input_variables=['cuisine'],\n",
    "    template=\"\"\"### Instruction:\n",
    "Suggest only one fancy name (no description or explanation) for a restaurant that serves {cuisine} food. Just return the name only.\n",
    "### Response:\"\"\"\n",
    ")\n",
    "\n",
    "name_chain = LLMChain(llm=llm, prompt=prompt_template_name, output_key='restaurant_name')\n",
    "\n",
    "prompt_template_items = PromptTemplate(\n",
    "    input_variables=['restaurant_name'],\n",
    "    template=\"\"\"### Instruction:\n",
    "Suggest a list of traditional and popular {cuisine} dishes served at a restaurant named \"{restaurant_name}\". \n",
    "Only return the dish names in bullet-point format like this:\n",
    "\n",
    "- Dish 1\n",
    "- Dish 2\n",
    "- Dish 3\n",
    "...\n",
    "\n",
    "No description or extra text. Just the list.\n",
    "\n",
    "### Response:\"\"\"\n",
    ")\n",
    "\n",
    "food_items_chain = LLMChain(llm=llm, prompt=prompt_template_items, output_key = 'menu_items')"
   ]
  },
  {
   "cell_type": "code",
   "execution_count": null,
   "id": "37de13d8",
   "metadata": {},
   "outputs": [
    {
     "data": {
      "text/plain": [
       "{'cuisine': 'Arabic',\n",
       " 'restaurant_name': '\\nAl-Zahra',\n",
       " 'menu_items': '\\n\\n- Biryani\\n- Tagine\\n- Kebab\\n- Falafel\\n- Chicken Shawarma\\n- Lamb Machboos\\n- Tabbouleh\\n- Hummus\\n- Fattoush\\n- Mixed Grill\\n- Kunafeh\\n- Qatayef\\n- Baklava\\n- Chocolate Cake\\n- Strawberry Cake\\n- Apple Cake\\n- Banana Cake'}"
      ]
     },
     "execution_count": 212,
     "metadata": {},
     "output_type": "execute_result"
    }
   ],
   "source": [
    "from langchain.chains import SequentialChain\n",
    "\n",
    "chain = SequentialChain(\n",
    "    chains=[name_chain, food_items_chain],\n",
    "    input_variables=['cuisine'],\n",
    "    output_variables=['restaurant_name', 'menu_items']\n",
    ")\n",
    "chain({'cuisine':'Arabic'})"
   ]
  }
 ],
 "metadata": {
  "kernelspec": {
   "display_name": "Python 3",
   "language": "python",
   "name": "python3"
  },
  "language_info": {
   "codemirror_mode": {
    "name": "ipython",
    "version": 3
   },
   "file_extension": ".py",
   "mimetype": "text/x-python",
   "name": "python",
   "nbconvert_exporter": "python",
   "pygments_lexer": "ipython3",
   "version": "3.12.5"
  }
 },
 "nbformat": 4,
 "nbformat_minor": 5
}
